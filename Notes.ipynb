{
 "cells": [
  {
   "cell_type": "markdown",
   "id": "b3e76218-9093-475d-8c9c-89a8cb6082ae",
   "metadata": {},
   "source": [
    "# Important notes"
   ]
  },
  {
   "cell_type": "markdown",
   "id": "8454ab38-2171-41d2-8fca-29ba4426c733",
   "metadata": {},
   "source": [
    "- "
   ]
  }
 ],
 "metadata": {
  "kernelspec": {
   "display_name": "local-venv",
   "language": "python",
   "name": "local-venv"
  },
  "language_info": {
   "codemirror_mode": {
    "name": "ipython",
    "version": 3
   },
   "file_extension": ".py",
   "mimetype": "text/x-python",
   "name": "python",
   "nbconvert_exporter": "python",
   "pygments_lexer": "ipython3",
   "version": "3.12.7"
  }
 },
 "nbformat": 4,
 "nbformat_minor": 5
}
